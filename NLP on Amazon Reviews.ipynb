{
 "cells": [
  {
   "cell_type": "markdown",
   "metadata": {},
   "source": [
    "# Sentiment Analysis of Amazon Reviews"
   ]
  },
  {
   "cell_type": "markdown",
   "metadata": {},
   "source": [
    "# Task 1"
   ]
  },
  {
   "cell_type": "markdown",
   "metadata": {},
   "source": [
    "You’ll be creating models to predict the reviews that lead to recommendations for the\n",
    "product, 5-star ratings, and reviews being considered helpful, which are found in the\n",
    "fields reviews.doRecommend, reviews.rating, and reviews.numHelpful respectively.\n",
    "Create summary statistics and histograms for each of these fields. Do you see any issues\n",
    "in using these fields as outcome (target) variables? \n"
   ]
  },
  {
   "cell_type": "code",
   "execution_count": 1,
   "metadata": {},
   "outputs": [
    {
     "name": "stdout",
     "output_type": "stream",
     "text": [
      "<class 'pandas.core.frame.DataFrame'>\n",
      "RangeIndex: 745 entries, 0 to 744\n",
      "Data columns (total 24 columns):\n",
      "index                  745 non-null int64\n",
      "id                     745 non-null object\n",
      "dateAdded              745 non-null object\n",
      "dateUpdated            745 non-null object\n",
      "name                   745 non-null object\n",
      "asins                  745 non-null object\n",
      "brand                  745 non-null object\n",
      "categories             745 non-null object\n",
      "primaryCategories      745 non-null object\n",
      "imageURLs              745 non-null object\n",
      "keys                   745 non-null object\n",
      "manufacturer           745 non-null object\n",
      "manufacturerNumber     745 non-null object\n",
      "reviews.date           745 non-null object\n",
      "reviews.dateSeen       745 non-null object\n",
      "reviews.didPurchase    0 non-null float64\n",
      "reviews.doRecommend    745 non-null bool\n",
      "reviews.id             0 non-null float64\n",
      "reviews.numHelpful     745 non-null int64\n",
      "reviews.rating         745 non-null int64\n",
      "reviews.sourceURLs     745 non-null object\n",
      "reviews.text           745 non-null object\n",
      "reviews.title          745 non-null object\n",
      "reviews.username       745 non-null object\n",
      "dtypes: bool(1), float64(2), int64(3), object(18)\n",
      "memory usage: 134.7+ KB\n"
     ]
    },
    {
     "name": "stderr",
     "output_type": "stream",
     "text": [
      "[nltk_data] Downloading package averaged_perceptron_tagger to\n",
      "[nltk_data]     C:\\Users\\steff\\AppData\\Roaming\\nltk_data...\n",
      "[nltk_data]   Package averaged_perceptron_tagger is already up-to-\n",
      "[nltk_data]       date!\n",
      "[nltk_data] Downloading package stopwords to\n",
      "[nltk_data]     C:\\Users\\steff\\AppData\\Roaming\\nltk_data...\n",
      "[nltk_data]   Package stopwords is already up-to-date!\n"
     ]
    }
   ],
   "source": [
    "import numpy as np\n",
    "import pandas as pd\n",
    "import matplotlib.pyplot as plt\n",
    "import warnings\n",
    "warnings.filterwarnings(\"ignore\")\n",
    "import nltk\n",
    "nltk.download('averaged_perceptron_tagger')\n",
    "from nltk.tokenize import sent_tokenize\n",
    "from nltk.tokenize import word_tokenize\n",
    "import nltk\n",
    "nltk.download('stopwords')\n",
    "from nltk.corpus import stopwords\n",
    "\n",
    "#reading the csv file and creating a dataframe out of it\n",
    "df_data = pd.read_csv(\"kindle_reviews.csv\" , encoding = \"unicode_escape\")\n",
    "df_data.head()\n",
    "\n",
    "# only keeping rows that are of product kindle \n",
    "#Reference : https://www.pythonprogramming.in/how-to-filter-rows-containing-a-string-pattern-in-pandas-dataframe.html\n",
    "df_data = df_data[df_data['name'].str.upper().str.contains('KINDLE')].reset_index()\n",
    "\n",
    "df_data.info()\n",
    "\n"
   ]
  },
  {
   "cell_type": "code",
   "execution_count": 2,
   "metadata": {},
   "outputs": [
    {
     "name": "stdout",
     "output_type": "stream",
     "text": [
      "count      745\n",
      "unique       2\n",
      "top       True\n",
      "freq       723\n",
      "Name: reviews.doRecommend, dtype: object\n"
     ]
    },
    {
     "data": {
      "image/png": "[encoded data removed]",
      "text/plain": [
       "<Figure size 432x288 with 1 Axes>"
      ]
     },
     "metadata": {
      "needs_background": "light"
     },
     "output_type": "display_data"
    }
   ],
   "source": [
    "# Summary Statistics and bar plot for Column reviews.doRecommend\n",
    "col_doRecommend = df_data.loc[: , 'reviews.doRecommend']\n",
    "print(col_doRecommend.describe())\n",
    "\n",
    "#Reference : https://stackoverflow.com/questions/47809646/how-to-make-a-histogram-for-non-numeric-variables-in-python\n",
    "df_data['reviews.doRecommend'].value_counts().plot.bar()\n",
    "plt.show()"
   ]
  },
  {
   "cell_type": "code",
   "execution_count": 3,
   "metadata": {},
   "outputs": [
    {
     "name": "stdout",
     "output_type": "stream",
     "text": [
      "count    745.000000\n",
      "mean       4.703356\n",
      "std        0.630158\n",
      "min        1.000000\n",
      "25%        5.000000\n",
      "50%        5.000000\n",
      "75%        5.000000\n",
      "max        5.000000\n",
      "Name: reviews.rating, dtype: float64\n"
     ]
    },
    {
     "data": {
      "image/png": "[encoded data removed]",
      "text/plain": [
       "<Figure size 720x576 with 1 Axes>"
      ]
     },
     "metadata": {
      "needs_background": "light"
     },
     "output_type": "display_data"
    }
   ],
   "source": [
    "#Summary Statistics and histogram for Column reviews.rating\n",
    "col_reviewsRating = df_data.loc[:, 'reviews.rating']\n",
    "print(col_reviewsRating.describe())\n",
    "\n",
    "plt.subplots(figsize = (10,8))\n",
    "plt.hist(col_reviewsRating , bins = 'auto')\n",
    "plt.title('Histogram of review ratings')\n",
    "positions = (1, 2, 3 , 4, 5)\n",
    "plt.xticks(positions)\n",
    "plt.show()"
   ]
  },
  {
   "cell_type": "code",
   "execution_count": 4,
   "metadata": {
    "scrolled": true
   },
   "outputs": [
    {
     "name": "stdout",
     "output_type": "stream",
     "text": [
      "count    745.000000\n",
      "mean       1.868456\n",
      "std        4.934124\n",
      "min        0.000000\n",
      "25%        0.000000\n",
      "50%        0.000000\n",
      "75%        2.000000\n",
      "max       72.000000\n",
      "Name: reviews.numHelpful, dtype: float64\n"
     ]
    },
    {
     "data": {
      "image/png": "[encoded data removed]",
      "text/plain": [
       "<Figure size 720x576 with 1 Axes>"
      ]
     },
     "metadata": {
      "needs_background": "light"
     },
     "output_type": "display_data"
    }
   ],
   "source": [
    "#Summary Statistics and histogram for Column reviews.numHelpful\n",
    "col_numHelpful = df_data.loc[: , 'reviews.numHelpful']\n",
    "print(col_numHelpful.describe())\n",
    "\n",
    "plt.subplots(figsize = (10,8))\n",
    "plt.hist(col_numHelpful , bins = 'auto')\n",
    "plt.title('Histogram of numHelpful')\n",
    "plt.show()"
   ]
  },
  {
   "cell_type": "markdown",
   "metadata": {},
   "source": [
    "#Do you see any issues in using these fields as outcome (target) variables?\n",
    "\n",
    "Issue 1 : The doRecommend column has boolean values True and False and will need to be converted to 1 and 0 respectively depending on the model used , as it may cause a problem while passing the column as a featuren variable in model prediction.\n",
    "\n",
    "Issue 2: The ratings and doRecommend column has skewed values i.e. majority ratings are >=4 while the ,majority of doRecommend values is true. This may give a high accuracy in the model predictions but the results are biased as the data is skewed towards one direction.\n"
   ]
  },
  {
   "cell_type": "markdown",
   "metadata": {},
   "source": [
    "# Task 2 "
   ]
  },
  {
   "cell_type": "markdown",
   "metadata": {},
   "source": [
    "Prepare the text of the reviews in the reviews.text field for analysis by eliminating\n",
    "stopwords. What are the top 10 most frequent words? What are the top 10 nouns?\n",
    "What are the top ten adjectives? "
   ]
  },
  {
   "cell_type": "code",
   "execution_count": 5,
   "metadata": {},
   "outputs": [
    {
     "name": "stdout",
     "output_type": "stream",
     "text": [
      "<class 'str'>\n"
     ]
    },
    {
     "data": {
      "text/html": [
       "<div>\n",
       "<style scoped>\n",
       "    .dataframe tbody tr th:only-of-type {\n",
       "        vertical-align: middle;\n",
       "    }\n",
       "\n",
       "    .dataframe tbody tr th {\n",
       "        vertical-align: top;\n",
       "    }\n",
       "\n",
       "    .dataframe thead th {\n",
       "        text-align: right;\n",
       "    }\n",
       "</style>\n",
       "<table border=\"1\" class=\"dataframe\">\n",
       "  <thead>\n",
       "    <tr style=\"text-align: right;\">\n",
       "      <th></th>\n",
       "      <th>index</th>\n",
       "      <th>id</th>\n",
       "      <th>dateAdded</th>\n",
       "      <th>dateUpdated</th>\n",
       "      <th>name</th>\n",
       "      <th>asins</th>\n",
       "      <th>brand</th>\n",
       "      <th>categories</th>\n",
       "      <th>primaryCategories</th>\n",
       "      <th>imageURLs</th>\n",
       "      <th>...</th>\n",
       "      <th>reviews.rating</th>\n",
       "      <th>reviews.sourceURLs</th>\n",
       "      <th>reviews.text</th>\n",
       "      <th>reviews.title</th>\n",
       "      <th>reviews.username</th>\n",
       "      <th>without_punct</th>\n",
       "      <th>without_stop</th>\n",
       "      <th>temp_lem</th>\n",
       "      <th>temp</th>\n",
       "      <th>temp_stem</th>\n",
       "    </tr>\n",
       "  </thead>\n",
       "  <tbody>\n",
       "    <tr>\n",
       "      <td>0</td>\n",
       "      <td>0</td>\n",
       "      <td>AVphPmHuilAPnD_x3E5h</td>\n",
       "      <td>2016-03-31T21:08:24Z</td>\n",
       "      <td>2019-03-12T04:21:17Z</td>\n",
       "      <td>Kindle Voyage E-reader, 6 High-Resolution Disp...</td>\n",
       "      <td>B00IOY8XWQ</td>\n",
       "      <td>Amazon</td>\n",
       "      <td>eBook Readers,Electronics Features,Walmart for...</td>\n",
       "      <td>Electronics</td>\n",
       "      <td>https://images-na.ssl-images-amazon.com/images...</td>\n",
       "      <td>...</td>\n",
       "      <td>5</td>\n",
       "      <td>https://reviews.bestbuy.com/3545/9302088/revie...</td>\n",
       "      <td>I bought this so i can save all of my books. I...</td>\n",
       "      <td>A bit small, but very useful!!</td>\n",
       "      <td>Goldfish</td>\n",
       "      <td>I bought this so i can save all of my books It...</td>\n",
       "      <td>[bought, save, books, bit, small, first, get, ...</td>\n",
       "      <td>[bought, save, book, bit, small, first, get, u...</td>\n",
       "      <td>bought save book bit small first get use overa...</td>\n",
       "      <td>[bought, save, book, bit, small, first, get, u...</td>\n",
       "    </tr>\n",
       "    <tr>\n",
       "      <td>1</td>\n",
       "      <td>1</td>\n",
       "      <td>AVphPmHuilAPnD_x3E5h</td>\n",
       "      <td>2016-03-31T21:08:24Z</td>\n",
       "      <td>2019-03-12T04:21:17Z</td>\n",
       "      <td>Kindle Voyage E-reader, 6 High-Resolution Disp...</td>\n",
       "      <td>B00IOY8XWQ</td>\n",
       "      <td>Amazon</td>\n",
       "      <td>eBook Readers,Electronics Features,Walmart for...</td>\n",
       "      <td>Electronics</td>\n",
       "      <td>https://images-na.ssl-images-amazon.com/images...</td>\n",
       "      <td>...</td>\n",
       "      <td>5</td>\n",
       "      <td>http://reviews.bestbuy.com/3545/9302088/review...</td>\n",
       "      <td>I bought this as a gift. I think it is pretty ...</td>\n",
       "      <td>a decent gift</td>\n",
       "      <td>Zigpig</td>\n",
       "      <td>I bought this as a gift I think it is pretty d...</td>\n",
       "      <td>[bought, gift, think, pretty, decent, quality,...</td>\n",
       "      <td>[bought, gift, think, pretty, decent, quality,...</td>\n",
       "      <td>bought gift think pretti decent qualiti design</td>\n",
       "      <td>[bought, gift, think, pretti, decent, qualiti,...</td>\n",
       "    </tr>\n",
       "    <tr>\n",
       "      <td>2</td>\n",
       "      <td>2</td>\n",
       "      <td>AVphPmHuilAPnD_x3E5h</td>\n",
       "      <td>2016-03-31T21:08:24Z</td>\n",
       "      <td>2019-03-12T04:21:17Z</td>\n",
       "      <td>Kindle Voyage E-reader, 6 High-Resolution Disp...</td>\n",
       "      <td>B00IOY8XWQ</td>\n",
       "      <td>Amazon</td>\n",
       "      <td>eBook Readers,Electronics Features,Walmart for...</td>\n",
       "      <td>Electronics</td>\n",
       "      <td>https://images-na.ssl-images-amazon.com/images...</td>\n",
       "      <td>...</td>\n",
       "      <td>5</td>\n",
       "      <td>http://reviews.bestbuy.com/3545/9302088/review...</td>\n",
       "      <td>This is a great e-reader, perhaps a little pri...</td>\n",
       "      <td>A great e-reader</td>\n",
       "      <td>david</td>\n",
       "      <td>This is a great ereader perhaps a little price...</td>\n",
       "      <td>[great, ereader, perhaps, little, pricey, well...</td>\n",
       "      <td>[great, ereader, perhaps, little, pricey, well...</td>\n",
       "      <td>great eread perhap littl pricey well worth mon...</td>\n",
       "      <td>[great, eread, perhap, littl, pricey, well, wo...</td>\n",
       "    </tr>\n",
       "    <tr>\n",
       "      <td>3</td>\n",
       "      <td>3</td>\n",
       "      <td>AVphPmHuilAPnD_x3E5h</td>\n",
       "      <td>2016-03-31T21:08:24Z</td>\n",
       "      <td>2019-03-12T04:21:17Z</td>\n",
       "      <td>Kindle Voyage E-reader, 6 High-Resolution Disp...</td>\n",
       "      <td>B00IOY8XWQ</td>\n",
       "      <td>Amazon</td>\n",
       "      <td>eBook Readers,Electronics Features,Walmart for...</td>\n",
       "      <td>Electronics</td>\n",
       "      <td>https://images-na.ssl-images-amazon.com/images...</td>\n",
       "      <td>...</td>\n",
       "      <td>5</td>\n",
       "      <td>http://reviews.bestbuy.com/3545/9302088/review...</td>\n",
       "      <td>I have owned several Kindles over the years, a...</td>\n",
       "      <td>A great Kindle</td>\n",
       "      <td>Jimbo</td>\n",
       "      <td>I have owned several Kindles over the years an...</td>\n",
       "      <td>[owned, several, kindles, years, one, best, ye...</td>\n",
       "      <td>[owned, several, kindles, year, one, best, yet...</td>\n",
       "      <td>own sever kindl year one best yet contrast cla...</td>\n",
       "      <td>[own, sever, kindl, year, one, best, yet, cont...</td>\n",
       "    </tr>\n",
       "    <tr>\n",
       "      <td>4</td>\n",
       "      <td>4</td>\n",
       "      <td>AVphPmHuilAPnD_x3E5h</td>\n",
       "      <td>2016-03-31T21:08:24Z</td>\n",
       "      <td>2019-03-12T04:21:17Z</td>\n",
       "      <td>Kindle Voyage E-reader, 6 High-Resolution Disp...</td>\n",
       "      <td>B00IOY8XWQ</td>\n",
       "      <td>Amazon</td>\n",
       "      <td>eBook Readers,Electronics Features,Walmart for...</td>\n",
       "      <td>Electronics</td>\n",
       "      <td>https://images-na.ssl-images-amazon.com/images...</td>\n",
       "      <td>...</td>\n",
       "      <td>5</td>\n",
       "      <td>http://reviews.bestbuy.com/3545/9302088/review...</td>\n",
       "      <td>Nothing will replace the joy of flipping throu...</td>\n",
       "      <td>A great space saver for book lovers</td>\n",
       "      <td>SillyGoober</td>\n",
       "      <td>Nothing will replace the joy of flipping throu...</td>\n",
       "      <td>[nothing, replace, joy, flipping, pages, book,...</td>\n",
       "      <td>[nothing, replace, joy, flipping, page, book, ...</td>\n",
       "      <td>noth replac joy flip page book live studio apa...</td>\n",
       "      <td>[noth, replac, joy, flip, page, book, live, st...</td>\n",
       "    </tr>\n",
       "    <tr>\n",
       "      <td>...</td>\n",
       "      <td>...</td>\n",
       "      <td>...</td>\n",
       "      <td>...</td>\n",
       "      <td>...</td>\n",
       "      <td>...</td>\n",
       "      <td>...</td>\n",
       "      <td>...</td>\n",
       "      <td>...</td>\n",
       "      <td>...</td>\n",
       "      <td>...</td>\n",
       "      <td>...</td>\n",
       "      <td>...</td>\n",
       "      <td>...</td>\n",
       "      <td>...</td>\n",
       "      <td>...</td>\n",
       "      <td>...</td>\n",
       "      <td>...</td>\n",
       "      <td>...</td>\n",
       "      <td>...</td>\n",
       "      <td>...</td>\n",
       "      <td>...</td>\n",
       "    </tr>\n",
       "    <tr>\n",
       "      <td>740</td>\n",
       "      <td>839</td>\n",
       "      <td>AWP6zKOtIwln0LfXnf2p</td>\n",
       "      <td>2018-06-13T19:37:34Z</td>\n",
       "      <td>2019-02-24T22:26:51Z</td>\n",
       "      <td>All-New Kindle Oasis E-reader - 7 High-Resolut...</td>\n",
       "      <td>B06XCWLL12</td>\n",
       "      <td>Amazon</td>\n",
       "      <td>E-Readers &amp; Accessories,EBook Readers,Amazon B...</td>\n",
       "      <td>Electronics,Media</td>\n",
       "      <td>https://pisces.bbystatic.com/image2/BestBuy_US...</td>\n",
       "      <td>...</td>\n",
       "      <td>4</td>\n",
       "      <td>https://reviews.bestbuy.com/3545/6102700/revie...</td>\n",
       "      <td>This is perfect. I carry mine 24/7. Super fast...</td>\n",
       "      <td>Great Device</td>\n",
       "      <td>kcladyz</td>\n",
       "      <td>This is perfect I carry mine  Super fast also ...</td>\n",
       "      <td>[perfect, carry, mine, super, fast, also, down...</td>\n",
       "      <td>[perfect, carry, mine, super, fast, also, down...</td>\n",
       "      <td>perfect carri mine super fast also downsid bat...</td>\n",
       "      <td>[perfect, carri, mine, super, fast, also, down...</td>\n",
       "    </tr>\n",
       "    <tr>\n",
       "      <td>741</td>\n",
       "      <td>840</td>\n",
       "      <td>AWP6zKOtIwln0LfXnf2p</td>\n",
       "      <td>2018-06-13T19:37:34Z</td>\n",
       "      <td>2019-02-24T22:26:51Z</td>\n",
       "      <td>All-New Kindle Oasis E-reader - 7 High-Resolut...</td>\n",
       "      <td>B06XCWLL12</td>\n",
       "      <td>Amazon</td>\n",
       "      <td>E-Readers &amp; Accessories,EBook Readers,Amazon B...</td>\n",
       "      <td>Electronics,Media</td>\n",
       "      <td>https://pisces.bbystatic.com/image2/BestBuy_US...</td>\n",
       "      <td>...</td>\n",
       "      <td>5</td>\n",
       "      <td>https://reviews.bestbuy.com/3545/6102700/revie...</td>\n",
       "      <td>My 11year old daughter is loving this ereader....</td>\n",
       "      <td>Great ereader</td>\n",
       "      <td>Sls27</td>\n",
       "      <td>My year old daughter is loving this ereader It...</td>\n",
       "      <td>[year, old, daughter, loving, ereader, itäôs, ...</td>\n",
       "      <td>[year, old, daughter, loving, ereader, itäôs, ...</td>\n",
       "      <td>year old daughter love eread itäô light portab...</td>\n",
       "      <td>[year, old, daughter, love, eread, itäô, light...</td>\n",
       "    </tr>\n",
       "    <tr>\n",
       "      <td>742</td>\n",
       "      <td>841</td>\n",
       "      <td>AWP6zKOtIwln0LfXnf2p</td>\n",
       "      <td>2018-06-13T19:37:34Z</td>\n",
       "      <td>2019-02-24T22:26:51Z</td>\n",
       "      <td>All-New Kindle Oasis E-reader - 7 High-Resolut...</td>\n",
       "      <td>B06XCWLL12</td>\n",
       "      <td>Amazon</td>\n",
       "      <td>E-Readers &amp; Accessories,EBook Readers,Amazon B...</td>\n",
       "      <td>Electronics,Media</td>\n",
       "      <td>https://pisces.bbystatic.com/image2/BestBuy_US...</td>\n",
       "      <td>...</td>\n",
       "      <td>5</td>\n",
       "      <td>https://reviews.bestbuy.com/3545/6102700/revie...</td>\n",
       "      <td>It's always nice to shop at Best Buy In Tulsa,...</td>\n",
       "      <td>Great Kindle Oasis</td>\n",
       "      <td>Rick</td>\n",
       "      <td>Its always nice to shop at Best Buy In Tulsa O...</td>\n",
       "      <td>[always, nice, shop, best, buy, tulsa, ok, hel...</td>\n",
       "      <td>[always, nice, shop, best, buy, tulsa, ok, hel...</td>\n",
       "      <td>alway nice shop best buy tulsa ok help soon wa...</td>\n",
       "      <td>[alway, nice, shop, best, buy, tulsa, ok, help...</td>\n",
       "    </tr>\n",
       "    <tr>\n",
       "      <td>743</td>\n",
       "      <td>842</td>\n",
       "      <td>AWP6zKOtIwln0LfXnf2p</td>\n",
       "      <td>2018-06-13T19:37:34Z</td>\n",
       "      <td>2019-02-24T22:26:51Z</td>\n",
       "      <td>All-New Kindle Oasis E-reader - 7 High-Resolut...</td>\n",
       "      <td>B06XCWLL12</td>\n",
       "      <td>Amazon</td>\n",
       "      <td>E-Readers &amp; Accessories,EBook Readers,Amazon B...</td>\n",
       "      <td>Electronics,Media</td>\n",
       "      <td>https://pisces.bbystatic.com/image2/BestBuy_US...</td>\n",
       "      <td>...</td>\n",
       "      <td>5</td>\n",
       "      <td>https://reviews.bestbuy.com/3545/6102700/revie...</td>\n",
       "      <td>The screen is very nice. The design is perfect...</td>\n",
       "      <td>Great screen</td>\n",
       "      <td>Robert</td>\n",
       "      <td>The screen is very nice The design is perfect ...</td>\n",
       "      <td>[screen, nice, design, perfect, fits, hand, fl...</td>\n",
       "      <td>[screen, nice, design, perfect, fit, hand, fli...</td>\n",
       "      <td>screen nice design perfect fit hand flip page ...</td>\n",
       "      <td>[screen, nice, design, perfect, fit, hand, fli...</td>\n",
       "    </tr>\n",
       "    <tr>\n",
       "      <td>744</td>\n",
       "      <td>843</td>\n",
       "      <td>AWP6zKOtIwln0LfXnf2p</td>\n",
       "      <td>2018-06-13T19:37:34Z</td>\n",
       "      <td>2019-02-24T22:26:51Z</td>\n",
       "      <td>All-New Kindle Oasis E-reader - 7 High-Resolut...</td>\n",
       "      <td>B06XCWLL12</td>\n",
       "      <td>Amazon</td>\n",
       "      <td>E-Readers &amp; Accessories,EBook Readers,Amazon B...</td>\n",
       "      <td>Electronics,Media</td>\n",
       "      <td>https://pisces.bbystatic.com/image2/BestBuy_US...</td>\n",
       "      <td>...</td>\n",
       "      <td>4</td>\n",
       "      <td>https://reviews.bestbuy.com/3545/6102700/revie...</td>\n",
       "      <td>The Oasis has a very sleek design that is very...</td>\n",
       "      <td>Sleek design and excellent display</td>\n",
       "      <td>Gaiden</td>\n",
       "      <td>The Oasis has a very sleek design that is very...</td>\n",
       "      <td>[oasis, sleek, design, comfortable, hand, flat...</td>\n",
       "      <td>[oasis, sleek, design, comfortable, hand, flat...</td>\n",
       "      <td>oasi sleek design comfort hand flat transit sc...</td>\n",
       "      <td>[oasi, sleek, design, comfort, hand, flat, tra...</td>\n",
       "    </tr>\n",
       "  </tbody>\n",
       "</table>\n",
       "<p>745 rows × 29 columns</p>\n",
       "</div>"
      ],
      "text/plain": [
       "     index                    id             dateAdded           dateUpdated  \\\n",
       "0        0  AVphPmHuilAPnD_x3E5h  2016-03-31T21:08:24Z  2019-03-12T04:21:17Z   \n",
       "1        1  AVphPmHuilAPnD_x3E5h  2016-03-31T21:08:24Z  2019-03-12T04:21:17Z   \n",
       "2        2  AVphPmHuilAPnD_x3E5h  2016-03-31T21:08:24Z  2019-03-12T04:21:17Z   \n",
       "3        3  AVphPmHuilAPnD_x3E5h  2016-03-31T21:08:24Z  2019-03-12T04:21:17Z   \n",
       "4        4  AVphPmHuilAPnD_x3E5h  2016-03-31T21:08:24Z  2019-03-12T04:21:17Z   \n",
       "..     ...                   ...                   ...                   ...   \n",
       "740    839  AWP6zKOtIwln0LfXnf2p  2018-06-13T19:37:34Z  2019-02-24T22:26:51Z   \n",
       "741    840  AWP6zKOtIwln0LfXnf2p  2018-06-13T19:37:34Z  2019-02-24T22:26:51Z   \n",
       "742    841  AWP6zKOtIwln0LfXnf2p  2018-06-13T19:37:34Z  2019-02-24T22:26:51Z   \n",
       "743    842  AWP6zKOtIwln0LfXnf2p  2018-06-13T19:37:34Z  2019-02-24T22:26:51Z   \n",
       "744    843  AWP6zKOtIwln0LfXnf2p  2018-06-13T19:37:34Z  2019-02-24T22:26:51Z   \n",
       "\n",
       "                                                  name       asins   brand  \\\n",
       "0    Kindle Voyage E-reader, 6 High-Resolution Disp...  B00IOY8XWQ  Amazon   \n",
       "1    Kindle Voyage E-reader, 6 High-Resolution Disp...  B00IOY8XWQ  Amazon   \n",
       "2    Kindle Voyage E-reader, 6 High-Resolution Disp...  B00IOY8XWQ  Amazon   \n",
       "3    Kindle Voyage E-reader, 6 High-Resolution Disp...  B00IOY8XWQ  Amazon   \n",
       "4    Kindle Voyage E-reader, 6 High-Resolution Disp...  B00IOY8XWQ  Amazon   \n",
       "..                                                 ...         ...     ...   \n",
       "740  All-New Kindle Oasis E-reader - 7 High-Resolut...  B06XCWLL12  Amazon   \n",
       "741  All-New Kindle Oasis E-reader - 7 High-Resolut...  B06XCWLL12  Amazon   \n",
       "742  All-New Kindle Oasis E-reader - 7 High-Resolut...  B06XCWLL12  Amazon   \n",
       "743  All-New Kindle Oasis E-reader - 7 High-Resolut...  B06XCWLL12  Amazon   \n",
       "744  All-New Kindle Oasis E-reader - 7 High-Resolut...  B06XCWLL12  Amazon   \n",
       "\n",
       "                                            categories  primaryCategories  \\\n",
       "0    eBook Readers,Electronics Features,Walmart for...        Electronics   \n",
       "1    eBook Readers,Electronics Features,Walmart for...        Electronics   \n",
       "2    eBook Readers,Electronics Features,Walmart for...        Electronics   \n",
       "3    eBook Readers,Electronics Features,Walmart for...        Electronics   \n",
       "4    eBook Readers,Electronics Features,Walmart for...        Electronics   \n",
       "..                                                 ...                ...   \n",
       "740  E-Readers & Accessories,EBook Readers,Amazon B...  Electronics,Media   \n",
       "741  E-Readers & Accessories,EBook Readers,Amazon B...  Electronics,Media   \n",
       "742  E-Readers & Accessories,EBook Readers,Amazon B...  Electronics,Media   \n",
       "743  E-Readers & Accessories,EBook Readers,Amazon B...  Electronics,Media   \n",
       "744  E-Readers & Accessories,EBook Readers,Amazon B...  Electronics,Media   \n",
       "\n",
       "                                             imageURLs  ... reviews.rating  \\\n",
       "0    https://images-na.ssl-images-amazon.com/images...  ...              5   \n",
       "1    https://images-na.ssl-images-amazon.com/images...  ...              5   \n",
       "2    https://images-na.ssl-images-amazon.com/images...  ...              5   \n",
       "3    https://images-na.ssl-images-amazon.com/images...  ...              5   \n",
       "4    https://images-na.ssl-images-amazon.com/images...  ...              5   \n",
       "..                                                 ...  ...            ...   \n",
       "740  https://pisces.bbystatic.com/image2/BestBuy_US...  ...              4   \n",
       "741  https://pisces.bbystatic.com/image2/BestBuy_US...  ...              5   \n",
       "742  https://pisces.bbystatic.com/image2/BestBuy_US...  ...              5   \n",
       "743  https://pisces.bbystatic.com/image2/BestBuy_US...  ...              5   \n",
       "744  https://pisces.bbystatic.com/image2/BestBuy_US...  ...              4   \n",
       "\n",
       "                                    reviews.sourceURLs  \\\n",
       "0    https://reviews.bestbuy.com/3545/9302088/revie...   \n",
       "1    http://reviews.bestbuy.com/3545/9302088/review...   \n",
       "2    http://reviews.bestbuy.com/3545/9302088/review...   \n",
       "3    http://reviews.bestbuy.com/3545/9302088/review...   \n",
       "4    http://reviews.bestbuy.com/3545/9302088/review...   \n",
       "..                                                 ...   \n",
       "740  https://reviews.bestbuy.com/3545/6102700/revie...   \n",
       "741  https://reviews.bestbuy.com/3545/6102700/revie...   \n",
       "742  https://reviews.bestbuy.com/3545/6102700/revie...   \n",
       "743  https://reviews.bestbuy.com/3545/6102700/revie...   \n",
       "744  https://reviews.bestbuy.com/3545/6102700/revie...   \n",
       "\n",
       "                                          reviews.text  \\\n",
       "0    I bought this so i can save all of my books. I...   \n",
       "1    I bought this as a gift. I think it is pretty ...   \n",
       "2    This is a great e-reader, perhaps a little pri...   \n",
       "3    I have owned several Kindles over the years, a...   \n",
       "4    Nothing will replace the joy of flipping throu...   \n",
       "..                                                 ...   \n",
       "740  This is perfect. I carry mine 24/7. Super fast...   \n",
       "741  My 11year old daughter is loving this ereader....   \n",
       "742  It's always nice to shop at Best Buy In Tulsa,...   \n",
       "743  The screen is very nice. The design is perfect...   \n",
       "744  The Oasis has a very sleek design that is very...   \n",
       "\n",
       "                           reviews.title reviews.username  \\\n",
       "0         A bit small, but very useful!!         Goldfish   \n",
       "1                          a decent gift           Zigpig   \n",
       "2                       A great e-reader            david   \n",
       "3                         A great Kindle            Jimbo   \n",
       "4    A great space saver for book lovers      SillyGoober   \n",
       "..                                   ...              ...   \n",
       "740                         Great Device          kcladyz   \n",
       "741                        Great ereader            Sls27   \n",
       "742                   Great Kindle Oasis             Rick   \n",
       "743                         Great screen           Robert   \n",
       "744   Sleek design and excellent display           Gaiden   \n",
       "\n",
       "                                         without_punct  \\\n",
       "0    I bought this so i can save all of my books It...   \n",
       "1    I bought this as a gift I think it is pretty d...   \n",
       "2    This is a great ereader perhaps a little price...   \n",
       "3    I have owned several Kindles over the years an...   \n",
       "4    Nothing will replace the joy of flipping throu...   \n",
       "..                                                 ...   \n",
       "740  This is perfect I carry mine  Super fast also ...   \n",
       "741  My year old daughter is loving this ereader It...   \n",
       "742  Its always nice to shop at Best Buy In Tulsa O...   \n",
       "743  The screen is very nice The design is perfect ...   \n",
       "744  The Oasis has a very sleek design that is very...   \n",
       "\n",
       "                                          without_stop  \\\n",
       "0    [bought, save, books, bit, small, first, get, ...   \n",
       "1    [bought, gift, think, pretty, decent, quality,...   \n",
       "2    [great, ereader, perhaps, little, pricey, well...   \n",
       "3    [owned, several, kindles, years, one, best, ye...   \n",
       "4    [nothing, replace, joy, flipping, pages, book,...   \n",
       "..                                                 ...   \n",
       "740  [perfect, carry, mine, super, fast, also, down...   \n",
       "741  [year, old, daughter, loving, ereader, itäôs, ...   \n",
       "742  [always, nice, shop, best, buy, tulsa, ok, hel...   \n",
       "743  [screen, nice, design, perfect, fits, hand, fl...   \n",
       "744  [oasis, sleek, design, comfortable, hand, flat...   \n",
       "\n",
       "                                              temp_lem  \\\n",
       "0    [bought, save, book, bit, small, first, get, u...   \n",
       "1    [bought, gift, think, pretty, decent, quality,...   \n",
       "2    [great, ereader, perhaps, little, pricey, well...   \n",
       "3    [owned, several, kindles, year, one, best, yet...   \n",
       "4    [nothing, replace, joy, flipping, page, book, ...   \n",
       "..                                                 ...   \n",
       "740  [perfect, carry, mine, super, fast, also, down...   \n",
       "741  [year, old, daughter, loving, ereader, itäôs, ...   \n",
       "742  [always, nice, shop, best, buy, tulsa, ok, hel...   \n",
       "743  [screen, nice, design, perfect, fit, hand, fli...   \n",
       "744  [oasis, sleek, design, comfortable, hand, flat...   \n",
       "\n",
       "                                                  temp  \\\n",
       "0    bought save book bit small first get use overa...   \n",
       "1       bought gift think pretti decent qualiti design   \n",
       "2    great eread perhap littl pricey well worth mon...   \n",
       "3    own sever kindl year one best yet contrast cla...   \n",
       "4    noth replac joy flip page book live studio apa...   \n",
       "..                                                 ...   \n",
       "740  perfect carri mine super fast also downsid bat...   \n",
       "741  year old daughter love eread itäô light portab...   \n",
       "742  alway nice shop best buy tulsa ok help soon wa...   \n",
       "743  screen nice design perfect fit hand flip page ...   \n",
       "744  oasi sleek design comfort hand flat transit sc...   \n",
       "\n",
       "                                             temp_stem  \n",
       "0    [bought, save, book, bit, small, first, get, u...  \n",
       "1    [bought, gift, think, pretti, decent, qualiti,...  \n",
       "2    [great, eread, perhap, littl, pricey, well, wo...  \n",
       "3    [own, sever, kindl, year, one, best, yet, cont...  \n",
       "4    [noth, replac, joy, flip, page, book, live, st...  \n",
       "..                                                 ...  \n",
       "740  [perfect, carri, mine, super, fast, also, down...  \n",
       "741  [year, old, daughter, love, eread, itäô, light...  \n",
       "742  [alway, nice, shop, best, buy, tulsa, ok, help...  \n",
       "743  [screen, nice, design, perfect, fit, hand, fli...  \n",
       "744  [oasi, sleek, design, comfort, hand, flat, tra...  \n",
       "\n",
       "[745 rows x 29 columns]"
      ]
     },
     "execution_count": 5,
     "metadata": {},
     "output_type": "execute_result"
    }
   ],
   "source": [
    "#Reference : https://stackoverflow.com/questions/29523254/python-remove-stop-words-from-pandas-dataframe\n",
    "from nltk.tokenize import sent_tokenize\n",
    "from nltk.tokenize import word_tokenize\n",
    "import nltk\n",
    "# nltk.download('stopwords')\n",
    "from nltk.corpus import stopwords\n",
    "from nltk.stem import WordNetLemmatizer \n",
    "# nltk.download('punkt')\n",
    "# nltk.download('wordnet')\n",
    "    \n",
    "stop = stopwords.words('english')\n",
    "\n",
    "#Removing punction marks , numbers and html tags from sentences\n",
    "df_data[\"without_punct\"] = df_data['reviews.text'].str.replace('[^\\w\\s]','').str.replace('[\\d+]','').str.replace('<.*?>' , '')\n",
    "\n",
    "#Removing stopwords from the sentences and tokenizing the sentence \n",
    "df_data['without_stop'] = df_data['without_punct'].str.lower().apply(lambda x: [word for word in x.split() if word not in stop])\n",
    "df_data\n",
    "\n",
    "\n",
    "#Reference : https://www.machinelearningplus.com/nlp/lemmatization-examples-python/\n",
    "#Lemetizing of tokenized words \n",
    "lemmatizer = WordNetLemmatizer()\n",
    "\n",
    "for index , rows in df_data['without_stop'].items():\n",
    "    lemmatized_output = ' '.join([lemmatizer.lemmatize(w) for w in rows])\n",
    "    df_data.loc[index , 'temp_lem'] = lemmatized_output  \n",
    "    lemmatized_output = \" \"\n",
    "    \n",
    "print(type(lemmatized_output))\n",
    "df_data['temp_lem'] = df_data['temp_lem'].str.lower().apply(lambda x: [word for word in x.split()])\n",
    "df_data\n",
    "\n",
    "#Stemming of tokenized works\n",
    "from nltk.stem import PorterStemmer\n",
    "porter_stemmer = PorterStemmer()\n",
    "\n",
    "for index , rows in df_data['temp_lem'].items():\n",
    "    stemmed_output = ' '.join([porter_stemmer.stem(w) for w in rows])\n",
    "    df_data.loc[index , 'temp'] = stemmed_output  \n",
    "    stemmed_output = \" \"\n",
    "    \n",
    "df_data['temp_stem'] = df_data['temp'].str.lower().apply(lambda x: [word for word in x.split()])    \n",
    "df_data"
   ]
  },
  {
   "cell_type": "markdown",
   "metadata": {},
   "source": [
    "# Top 10 most Frequent Words: "
   ]
  },
  {
   "cell_type": "code",
   "execution_count": 6,
   "metadata": {},
   "outputs": [
    {
     "name": "stdout",
     "output_type": "stream",
     "text": [
      "Top 10 most frequent words are: \n"
     ]
    },
    {
     "data": {
      "text/plain": [
       "[('kindl', 612),\n",
       " ('read', 435),\n",
       " ('light', 292),\n",
       " ('voyag', 243),\n",
       " ('love', 241),\n",
       " ('use', 226),\n",
       " ('screen', 214),\n",
       " ('great', 211),\n",
       " ('page', 201),\n",
       " ('one', 192)]"
      ]
     },
     "execution_count": 6,
     "metadata": {},
     "output_type": "execute_result"
    }
   ],
   "source": [
    "#Reference : https://stackoverflow.com/questions/29903025/count-most-frequent-100-words-from-sentences-in-dataframe-pandas\n",
    "from collections import Counter\n",
    "\n",
    "# Top 10 most frequent words\n",
    "print('Top 10 most frequent words are: ')\n",
    "Counter(\" \".join(df_data[\"temp\"]).split()).most_common(10)\n",
    "\n"
   ]
  },
  {
   "cell_type": "code",
   "execution_count": 7,
   "metadata": {},
   "outputs": [],
   "source": [
    "from nltk.tag import pos_tag\n",
    "\n",
    "df_list = df_data[['temp' , 'temp_stem']]\n",
    "df_new = pd.DataFrame(df_list)\n",
    "df_new\n",
    "\n",
    "#creating lists of nouns and adjectives using postag\n",
    "temp_noun = []\n",
    "temp_adj = []\n",
    "for index , rows in df_new['temp_stem'].items():\n",
    "    tagged_tokens = nltk.pos_tag(rows)\n",
    "    for tup in tagged_tokens:\n",
    "        if(tup[1] == 'NN' or tup[1] =='NNS' or tup[1] == 'NNP' or tup[1] == 'NNPS'):\n",
    "            temp_noun.append(tup[0])  \n",
    "        if(tup[1] == 'JJ' or tup[1] =='JJR' or tup[1] == 'JJS'):\n",
    "            temp_adj.append(tup[0])\n",
    "                "
   ]
  },
  {
   "cell_type": "markdown",
   "metadata": {},
   "source": [
    "# Top 10 Nouns"
   ]
  },
  {
   "cell_type": "code",
   "execution_count": 8,
   "metadata": {},
   "outputs": [
    {
     "name": "stdout",
     "output_type": "stream",
     "text": [
      "Top 10 Nouns:\n"
     ]
    },
    {
     "data": {
      "text/plain": [
       "[('kindl', 446),\n",
       " ('page', 196),\n",
       " ('book', 180),\n",
       " ('use', 177),\n",
       " ('voyag', 170),\n",
       " ('reader', 150),\n",
       " ('screen', 136),\n",
       " ('easi', 126),\n",
       " ('paperwhit', 116),\n",
       " ('button', 113)]"
      ]
     },
     "execution_count": 8,
     "metadata": {},
     "output_type": "execute_result"
    }
   ],
   "source": [
    "#top 10 nouns\n",
    "print('Top 10 Nouns:')\n",
    "# print(len(temp_noun))\n",
    "Counter(temp_noun).most_common(10)"
   ]
  },
  {
   "cell_type": "markdown",
   "metadata": {},
   "source": [
    "# Top 10 Adjectives "
   ]
  },
  {
   "cell_type": "code",
   "execution_count": 9,
   "metadata": {},
   "outputs": [
    {
     "name": "stdout",
     "output_type": "stream",
     "text": [
      "Top 10 Adjectives:\n"
     ]
    },
    {
     "data": {
      "text/plain": [
       "[('great', 211),\n",
       " ('light', 170),\n",
       " ('best', 128),\n",
       " ('read', 117),\n",
       " ('new', 106),\n",
       " ('much', 76),\n",
       " ('screen', 71),\n",
       " ('good', 70),\n",
       " ('upgrad', 69),\n",
       " ('nice', 67)]"
      ]
     },
     "execution_count": 9,
     "metadata": {},
     "output_type": "execute_result"
    }
   ],
   "source": [
    "print('Top 10 Adjectives:')\n",
    "Counter(temp_adj).most_common(10)"
   ]
  },
  {
   "cell_type": "markdown",
   "metadata": {},
   "source": [
    "# Task 3"
   ]
  },
  {
   "cell_type": "markdown",
   "metadata": {},
   "source": [
    "What are the top ten most frequent words in reviews that do not recommend purchase\n",
    "of the Kindle? "
   ]
  },
  {
   "cell_type": "code",
   "execution_count": 10,
   "metadata": {},
   "outputs": [],
   "source": [
    "#Filtering rows for reviews that have False reviews.doRecommend , since they are reviews that do not recommend purchase\n",
    "df_temp = df_data[df_data['reviews.doRecommend'] == False]\n",
    "\n",
    "#Removing stop words kindle , amazon and would since they aren't words that do not recommend purchase\n",
    "stop = stopwords.words('english')\n",
    "stop.append(\"kindle\")\n",
    "stop.append(\"amazon\")\n",
    "stop.append(\"would\")\n",
    "\n",
    "#Removing punction marks , numbers and html tags from sentences\n",
    "df_temp[\"without_punct\"] = df_temp['reviews.text'].str.replace('[^\\w\\s]','').str.replace('[\\d+]','').str.replace('<.*?>' , '')\n",
    "\n",
    "#Removing stopwrod and tokenizing the reviews \n",
    "df_temp['without_stop'] = df_temp['without_punct'].str.lower().apply(lambda x: [word for word in x.split() if word not in stop])\n",
    "\n",
    "\n",
    "#Reference : https://www.machinelearningplus.com/nlp/lemmatization-examples-python/\n",
    "#Lemetizing of tokenized words \n",
    "lemmatizer = WordNetLemmatizer()\n",
    "\n",
    "for index , rows in df_temp['without_stop'].items():\n",
    "    lemmatized_output = ' '.join([lemmatizer.lemmatize(w) for w in rows])\n",
    "    df_temp.loc[index , 'temp_lem'] = lemmatized_output  \n",
    "    lemmatized_output = \" \"\n",
    "\n",
    "df_temp['temp_lem'] = df_temp['temp_lem'].str.lower().apply(lambda x: [word for word in x.split()])\n",
    "\n",
    "\n",
    "#Stemming of tokenized works\n",
    "from nltk.stem import PorterStemmer\n",
    "porter_stemmer = PorterStemmer()\n",
    "\n",
    "for index , rows in df_temp['temp_lem'].items():\n",
    "    stemmed_output = ' '.join([porter_stemmer.stem(w) for w in rows])\n",
    "    df_temp.loc[index , 'temp'] = stemmed_output  \n",
    "    stemmed_output = \" \"\n",
    "    \n",
    "df_temp['temp_stem'] = df_temp['temp'].str.lower().apply(lambda x: [word for word in x.split()])    \n",
    "\n",
    "\n"
   ]
  },
  {
   "cell_type": "markdown",
   "metadata": {},
   "source": [
    "# Top 10 most frequent words in reviews that do not recommend purchase of the Kindle"
   ]
  },
  {
   "cell_type": "code",
   "execution_count": 11,
   "metadata": {},
   "outputs": [
    {
     "name": "stdout",
     "output_type": "stream",
     "text": [
      " Top 10 most frequent words in reviews that do not recommend purchase of the Kindle are: \n"
     ]
    },
    {
     "data": {
      "text/plain": [
       "[('turn', 13),\n",
       " ('voyag', 10),\n",
       " ('light', 10),\n",
       " ('buy', 8),\n",
       " ('devic', 8),\n",
       " ('page', 7),\n",
       " ('better', 6),\n",
       " ('old', 5),\n",
       " ('screen', 5),\n",
       " ('custom', 5)]"
      ]
     },
     "execution_count": 11,
     "metadata": {},
     "output_type": "execute_result"
    }
   ],
   "source": [
    "# Top 10 most frequent words in reviews that do not recommend purchase of the Kindle\n",
    "print(' Top 10 most frequent words in reviews that do not recommend purchase of the Kindle are: ')\n",
    "Counter(\" \".join(df_temp[\"temp\"]).split()).most_common(10)"
   ]
  },
  {
   "cell_type": "markdown",
   "metadata": {},
   "source": [
    "# Task 4"
   ]
  },
  {
   "cell_type": "markdown",
   "metadata": {},
   "source": [
    "Create a model that will predict when a customer will give the Kindle a 5-star rating\n",
    "based on the text of the review. Evaluate the accuracy of your model. "
   ]
  },
  {
   "cell_type": "code",
   "execution_count": 12,
   "metadata": {},
   "outputs": [],
   "source": [
    "#Assigning sentiment 1 to 5-star ratings and 0 to others\n",
    "sentiment = {1: 0,\n",
    "            2: 0,\n",
    "            3: 0,\n",
    "            4: 0,\n",
    "            5: 1}\n",
    "\n",
    "df_data[\"sentiment_rating\"] = df_data[\"reviews.rating\"].map(sentiment)\n"
   ]
  },
  {
   "cell_type": "code",
   "execution_count": 13,
   "metadata": {},
   "outputs": [],
   "source": [
    "#reference : https://stackabuse.com/python-for-nlp-sentiment-analysis-with-scikit-learn/\n",
    "# building tfidf matrix to train models \n",
    "from sklearn.feature_extraction.text import TfidfVectorizer\n",
    "\n",
    "vectorizer =TfidfVectorizer(max_df=0.9)\n",
    "text = vectorizer.fit_transform(df_data[\"temp\"])\n",
    "\n"
   ]
  },
  {
   "cell_type": "code",
   "execution_count": 14,
   "metadata": {},
   "outputs": [
    {
     "name": "stdout",
     "output_type": "stream",
     "text": [
      "              precision    recall  f1-score   support\n",
      "\n",
      "           0       0.95      0.37      0.53        52\n",
      "           1       0.84      0.99      0.91       172\n",
      "\n",
      "    accuracy                           0.85       224\n",
      "   macro avg       0.89      0.68      0.72       224\n",
      "weighted avg       0.86      0.85      0.82       224\n",
      "\n",
      "Train accuracy of model (R^2) 0.9942418426103646\n",
      "Test accuracy of model (R^2) 0.8482142857142857\n"
     ]
    }
   ],
   "source": [
    "#Random Forest\n",
    "from sklearn.model_selection import train_test_split\n",
    "from sklearn.ensemble import RandomForestClassifier\n",
    "from sklearn import metrics\n",
    "from sklearn.metrics import classification_report, confusion_matrix, accuracy_score\n",
    "\n",
    "X_train, X_test, y_train, y_test = train_test_split(text, df_data[\"sentiment_rating\"], test_size=0.3, random_state=1)\n",
    "\n",
    "randomClf = RandomForestClassifier()\n",
    "randomClf.fit(X_train, y_train)\n",
    "y_pred = randomClf.predict(X_test)\n",
    "print(classification_report(y_test , y_pred))\n",
    "\n",
    "\n",
    "print(\"Train accuracy of model (R^2)\" ,str(randomClf.score(X_train, y_train) ))\n",
    "print(\"Test accuracy of model (R^2)\" ,str(randomClf.score(X_test, y_test) ))\n",
    "\n"
   ]
  },
  {
   "cell_type": "markdown",
   "metadata": {},
   "source": [
    "# Task 5"
   ]
  },
  {
   "cell_type": "markdown",
   "metadata": {},
   "source": [
    "Create a model that will predict when at least two customer will find a review helpful.\n",
    "Evaluate the accuracy of your model "
   ]
  },
  {
   "cell_type": "code",
   "execution_count": 15,
   "metadata": {},
   "outputs": [],
   "source": [
    "#Assigning sentiment 1 to numHelpful >= 2 and 0 to others\n",
    "df_data[\"sentiment_numHelpful\"] = np.where(df_data[\"reviews.numHelpful\"] >=2 ,1 , 0)\n"
   ]
  },
  {
   "cell_type": "code",
   "execution_count": 16,
   "metadata": {},
   "outputs": [],
   "source": [
    "#Creating a dataframe of vectorized text\n",
    "df_text = pd.DataFrame(text.toarray())"
   ]
  },
  {
   "cell_type": "code",
   "execution_count": 17,
   "metadata": {},
   "outputs": [],
   "source": [
    "# adding columns doRecommend and ratings into dataframe to be used a training set\n",
    "df_text['doRecommend'] = df_data[['reviews.doRecommend']]\n",
    "df_text['rating'] = df_data[['reviews.rating']]\n",
    "df_text['doRecommend'] = np.where(df_text['doRecommend'] == True , 1 , 0)\n"
   ]
  },
  {
   "cell_type": "code",
   "execution_count": 18,
   "metadata": {},
   "outputs": [
    {
     "name": "stdout",
     "output_type": "stream",
     "text": [
      "              precision    recall  f1-score   support\n",
      "\n",
      "           0       0.78      0.96      0.86       163\n",
      "           1       0.74      0.28      0.40        61\n",
      "\n",
      "    accuracy                           0.78       224\n",
      "   macro avg       0.76      0.62      0.63       224\n",
      "weighted avg       0.77      0.78      0.74       224\n",
      "\n",
      "Train accuracy of model (R^2) 0.9731285988483686\n",
      "Test accuracy of model (R^2) 0.7767857142857143\n"
     ]
    }
   ],
   "source": [
    "#Random Forest \n",
    "\n",
    "X_train, X_test, y_train, y_test = train_test_split(df_text, df_data[\"sentiment_numHelpful\"], test_size=0.3, random_state=1)\n",
    "\n",
    "randomClf = RandomForestClassifier()\n",
    "randomClf.fit(X_train, y_train)\n",
    "y_pred = randomClf.predict(X_test)\n",
    "print(classification_report(y_test , y_pred))\n",
    "\n",
    "\n",
    "print(\"Train accuracy of model (R^2)\" ,str(randomClf.score(X_train, y_train) ))\n",
    "print(\"Test accuracy of model (R^2)\" ,str(randomClf.score(X_test, y_test) ))"
   ]
  }
 ],
 "metadata": {
  "kernelspec": {
   "display_name": "Python 3",
   "language": "python",
   "name": "python3"
  },
  "language_info": {
   "codemirror_mode": {
    "name": "ipython",
    "version": 3
   },
   "file_extension": ".py",
   "mimetype": "text/x-python",
   "name": "python",
   "nbconvert_exporter": "python",
   "pygments_lexer": "ipython3",
   "version": "3.7.4"
  }
 },
 "nbformat": 4,
 "nbformat_minor": 2
}
